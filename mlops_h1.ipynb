{
 "cells": [
  {
   "cell_type": "code",
   "execution_count": 1,
   "metadata": {},
   "outputs": [
    {
     "data": {
      "text/html": [
       "<div><style>\n",
       ".dataframe > thead > tr,\n",
       ".dataframe > tbody > tr {\n",
       "  text-align: right;\n",
       "  white-space: pre-wrap;\n",
       "}\n",
       "</style>\n",
       "<small>shape: (5, 19)</small><table border=\"1\" class=\"dataframe\"><thead><tr><th>VendorID</th><th>tpep_pickup_datetime</th><th>tpep_dropoff_datetime</th><th>passenger_count</th><th>trip_distance</th><th>RatecodeID</th><th>store_and_fwd_flag</th><th>PULocationID</th><th>DOLocationID</th><th>payment_type</th><th>fare_amount</th><th>extra</th><th>mta_tax</th><th>tip_amount</th><th>tolls_amount</th><th>improvement_surcharge</th><th>total_amount</th><th>congestion_surcharge</th><th>airport_fee</th></tr><tr><td>i32</td><td>datetime[ns]</td><td>datetime[ns]</td><td>i64</td><td>f64</td><td>i64</td><td>str</td><td>i32</td><td>i32</td><td>i64</td><td>f64</td><td>f64</td><td>f64</td><td>f64</td><td>f64</td><td>f64</td><td>f64</td><td>f64</td><td>f64</td></tr></thead><tbody><tr><td>1</td><td>2023-02-01 00:32:53</td><td>2023-02-01 00:34:34</td><td>2</td><td>0.3</td><td>1</td><td>&quot;N&quot;</td><td>142</td><td>163</td><td>2</td><td>4.4</td><td>3.5</td><td>0.5</td><td>0.0</td><td>0.0</td><td>1.0</td><td>9.4</td><td>2.5</td><td>0.0</td></tr><tr><td>2</td><td>2023-02-01 00:35:16</td><td>2023-02-01 00:35:30</td><td>1</td><td>0.0</td><td>1</td><td>&quot;N&quot;</td><td>71</td><td>71</td><td>4</td><td>-3.0</td><td>-1.0</td><td>-0.5</td><td>0.0</td><td>0.0</td><td>-1.0</td><td>-5.5</td><td>0.0</td><td>0.0</td></tr><tr><td>2</td><td>2023-02-01 00:35:16</td><td>2023-02-01 00:35:30</td><td>1</td><td>0.0</td><td>1</td><td>&quot;N&quot;</td><td>71</td><td>71</td><td>4</td><td>3.0</td><td>1.0</td><td>0.5</td><td>0.0</td><td>0.0</td><td>1.0</td><td>5.5</td><td>0.0</td><td>0.0</td></tr><tr><td>1</td><td>2023-02-01 00:29:33</td><td>2023-02-01 01:01:38</td><td>0</td><td>18.8</td><td>1</td><td>&quot;N&quot;</td><td>132</td><td>26</td><td>1</td><td>70.9</td><td>2.25</td><td>0.5</td><td>0.0</td><td>0.0</td><td>1.0</td><td>74.65</td><td>0.0</td><td>1.25</td></tr><tr><td>2</td><td>2023-02-01 00:12:28</td><td>2023-02-01 00:25:46</td><td>1</td><td>3.22</td><td>1</td><td>&quot;N&quot;</td><td>161</td><td>145</td><td>1</td><td>17.0</td><td>1.0</td><td>0.5</td><td>3.3</td><td>0.0</td><td>1.0</td><td>25.3</td><td>2.5</td><td>0.0</td></tr></tbody></table></div>"
      ],
      "text/plain": [
       "shape: (5, 19)\n",
       "┌──────────┬───────────┬───────────┬───────────┬───┬───────────┬───────────┬───────────┬───────────┐\n",
       "│ VendorID ┆ tpep_pick ┆ tpep_drop ┆ passenger ┆ … ┆ improveme ┆ total_amo ┆ congestio ┆ airport_f │\n",
       "│ ---      ┆ up_dateti ┆ off_datet ┆ _count    ┆   ┆ nt_surcha ┆ unt       ┆ n_surchar ┆ ee        │\n",
       "│ i32      ┆ me        ┆ ime       ┆ ---       ┆   ┆ rge       ┆ ---       ┆ ge        ┆ ---       │\n",
       "│          ┆ ---       ┆ ---       ┆ i64       ┆   ┆ ---       ┆ f64       ┆ ---       ┆ f64       │\n",
       "│          ┆ datetime[ ┆ datetime[ ┆           ┆   ┆ f64       ┆           ┆ f64       ┆           │\n",
       "│          ┆ ns]       ┆ ns]       ┆           ┆   ┆           ┆           ┆           ┆           │\n",
       "╞══════════╪═══════════╪═══════════╪═══════════╪═══╪═══════════╪═══════════╪═══════════╪═══════════╡\n",
       "│ 1        ┆ 2023-02-0 ┆ 2023-02-0 ┆ 2         ┆ … ┆ 1.0       ┆ 9.4       ┆ 2.5       ┆ 0.0       │\n",
       "│          ┆ 1         ┆ 1         ┆           ┆   ┆           ┆           ┆           ┆           │\n",
       "│          ┆ 00:32:53  ┆ 00:34:34  ┆           ┆   ┆           ┆           ┆           ┆           │\n",
       "│ 2        ┆ 2023-02-0 ┆ 2023-02-0 ┆ 1         ┆ … ┆ -1.0      ┆ -5.5      ┆ 0.0       ┆ 0.0       │\n",
       "│          ┆ 1         ┆ 1         ┆           ┆   ┆           ┆           ┆           ┆           │\n",
       "│          ┆ 00:35:16  ┆ 00:35:30  ┆           ┆   ┆           ┆           ┆           ┆           │\n",
       "│ 2        ┆ 2023-02-0 ┆ 2023-02-0 ┆ 1         ┆ … ┆ 1.0       ┆ 5.5       ┆ 0.0       ┆ 0.0       │\n",
       "│          ┆ 1         ┆ 1         ┆           ┆   ┆           ┆           ┆           ┆           │\n",
       "│          ┆ 00:35:16  ┆ 00:35:30  ┆           ┆   ┆           ┆           ┆           ┆           │\n",
       "│ 1        ┆ 2023-02-0 ┆ 2023-02-0 ┆ 0         ┆ … ┆ 1.0       ┆ 74.65     ┆ 0.0       ┆ 1.25      │\n",
       "│          ┆ 1         ┆ 1         ┆           ┆   ┆           ┆           ┆           ┆           │\n",
       "│          ┆ 00:29:33  ┆ 01:01:38  ┆           ┆   ┆           ┆           ┆           ┆           │\n",
       "│ 2        ┆ 2023-02-0 ┆ 2023-02-0 ┆ 1         ┆ … ┆ 1.0       ┆ 25.3      ┆ 2.5       ┆ 0.0       │\n",
       "│          ┆ 1         ┆ 1         ┆           ┆   ┆           ┆           ┆           ┆           │\n",
       "│          ┆ 00:12:28  ┆ 00:25:46  ┆           ┆   ┆           ┆           ┆           ┆           │\n",
       "└──────────┴───────────┴───────────┴───────────┴───┴───────────┴───────────┴───────────┴───────────┘"
      ]
     },
     "execution_count": 1,
     "metadata": {},
     "output_type": "execute_result"
    }
   ],
   "source": [
    "# Collecting data\n",
    "import polars as pl\n",
    "\n",
    "df = pl.read_parquet(\n",
    "    \"https://d37ci6vzurychx.cloudfront.net/trip-data/yellow_tripdata_2023-01.parquet\"\n",
    ")\n",
    "df2 = pl.read_parquet(\n",
    "    \"https://d37ci6vzurychx.cloudfront.net/trip-data/yellow_tripdata_2023-02.parquet\"\n",
    ")\n",
    "\n",
    "df2 = df2.rename({\"Airport_fee\": \"airport_fee\"})\n",
    "\n",
    "df2.head()"
   ]
  },
  {
   "cell_type": "code",
   "execution_count": 2,
   "metadata": {},
   "outputs": [
    {
     "name": "stdout",
     "output_type": "stream",
     "text": [
      "19\n"
     ]
    }
   ],
   "source": [
    "# Read the data for January. How many columns are there?\n",
    "print(df.shape[1])"
   ]
  },
  {
   "cell_type": "code",
   "execution_count": 3,
   "metadata": {},
   "outputs": [
    {
     "name": "stdout",
     "output_type": "stream",
     "text": [
      "42.59449915808726\n"
     ]
    }
   ],
   "source": [
    "# What's the standard deviation of the trips duration in January?\n",
    "print(\n",
    "    df.select(\n",
    "        (pl.col(\"tpep_dropoff_datetime\") - pl.col(\"tpep_pickup_datetime\"))\n",
    "        .dt.total_minutes()\n",
    "        .std()\n",
    "        .alias(\"trip_time_in_minutes_std\")\n",
    "    ).item(0, 0)\n",
    ")"
   ]
  },
  {
   "cell_type": "code",
   "execution_count": 4,
   "metadata": {},
   "outputs": [
    {
     "name": "stdout",
     "output_type": "stream",
     "text": [
      "98.12%\n"
     ]
    }
   ],
   "source": [
    "within_1_hour = df.filter(\n",
    "    (\n",
    "        (pl.col(\"tpep_dropoff_datetime\") - pl.col(\"tpep_pickup_datetime\"))\n",
    "        .dt.total_minutes()\n",
    "        .lt(60)\n",
    "    )\n",
    "    & (\n",
    "        (pl.col(\"tpep_dropoff_datetime\") - pl.col(\"tpep_pickup_datetime\"))\n",
    "        .dt.total_minutes()\n",
    "        .gt(0)\n",
    "    )\n",
    ")\n",
    "\n",
    "within_1_hour_test = within_1_hour.select(\n",
    "    pl.col(\"tpep_pickup_datetime\").alias(\"pickup_time\"),\n",
    "    pl.col(\"tpep_dropoff_datetime\").alias(\"dropoff_time\"),\n",
    "    (pl.col(\"tpep_dropoff_datetime\") - pl.col(\"tpep_pickup_datetime\")).alias(\n",
    "        \"trip_time\"\n",
    "    ),\n",
    ")\n",
    "a = within_1_hour_test.select(pl.col(\"trip_time\").count().alias(\"count_trip_time\")).item(\n",
    "    0, 0\n",
    ")\n",
    "b = df.shape[0]\n",
    "\n",
    "d = a / b * 100\n",
    "print(f\"{d:.2f}%\")"
   ]
  },
  {
   "cell_type": "code",
   "execution_count": 5,
   "metadata": {},
   "outputs": [
    {
     "name": "stdout",
     "output_type": "stream",
     "text": [
      "515\n"
     ]
    }
   ],
   "source": [
    "# Let's apply one-hot encoding to the pickup and dropoff location IDs. We'll use only these two features for our model.\n",
    "\n",
    "# Turn the dataframe into a list of dictionaries (remember to re-cast the ids to strings - otherwise it will label encode them)\n",
    "# Fit a dictionary vectorizer\n",
    "# Get a feature matrix from it\n",
    "\n",
    "# What's the dimensionality of this matrix (number of columns)?\n",
    "\n",
    "\n",
    "from sklearn.feature_extraction import DictVectorizer\n",
    "\n",
    "\n",
    "hot_df = within_1_hour.select(\n",
    "    pl.col(\"PULocationID\").cast(pl.String).alias(\"PULocationID\"),\n",
    "    pl.col(\"DOLocationID\").cast(pl.String).alias(\"DOLocationID\"),\n",
    ").to_pandas()\n",
    "\n",
    "dict_list = hot_df.to_dict(orient=\"records\")\n",
    "\n",
    "vec = DictVectorizer()\n",
    "feature_matrix = vec.fit_transform(dict_list)\n",
    "\n",
    "print(feature_matrix.shape[1])"
   ]
  },
  {
   "cell_type": "code",
   "execution_count": 6,
   "metadata": {},
   "outputs": [
    {
     "name": "stderr",
     "output_type": "stream",
     "text": [
      "/opt/homebrew/lib/python3.10/site-packages/sklearn/metrics/_regression.py:483: FutureWarning: 'squared' is deprecated in version 1.4 and will be removed in 1.6. To calculate the root mean squared error, use the function'root_mean_squared_error'.\n",
      "  warnings.warn(\n"
     ]
    },
    {
     "data": {
      "text/plain": [
       "7.654040673597321"
      ]
     },
     "execution_count": 6,
     "metadata": {},
     "output_type": "execute_result"
    }
   ],
   "source": [
    "# Now let's use the feature matrix from the previous step to train a model.\n",
    "\n",
    "# Train a plain linear regression model with default parameters\n",
    "# Calculate the RMSE of the model on the training data\n",
    "\n",
    "# What's the RMSE on train?\n",
    "\n",
    "from sklearn.linear_model import LinearRegression\n",
    "from sklearn.metrics import mean_squared_error\n",
    "\n",
    "\n",
    "X_train = feature_matrix\n",
    "y_train = (\n",
    "    within_1_hour.select(\n",
    "        ((pl.col(\"tpep_dropoff_datetime\") - pl.col(\"tpep_pickup_datetime\")).dt.total_minutes()).alias(\"trip_time\")\n",
    "    )\n",
    "    .to_pandas()[\"trip_time\"]\n",
    "    .values\n",
    ")\n",
    "\n",
    "lr = LinearRegression()\n",
    "lr.fit(X_train, y_train)\n",
    "\n",
    "y_pred = lr.predict(X_train)\n",
    "\n",
    "mean_squared_error(y_train, y_pred, squared=False)"
   ]
  },
  {
   "cell_type": "code",
   "execution_count": 7,
   "metadata": {},
   "outputs": [
    {
     "name": "stderr",
     "output_type": "stream",
     "text": [
      "/opt/homebrew/lib/python3.10/site-packages/sklearn/metrics/_regression.py:483: FutureWarning: 'squared' is deprecated in version 1.4 and will be removed in 1.6. To calculate the root mean squared error, use the function'root_mean_squared_error'.\n",
      "  warnings.warn(\n"
     ]
    },
    {
     "data": {
      "text/plain": [
       "7.816190088188503"
      ]
     },
     "execution_count": 7,
     "metadata": {},
     "output_type": "execute_result"
    }
   ],
   "source": [
    "within_1_hour2 = df2.filter(\n",
    "    (\n",
    "        (pl.col(\"tpep_dropoff_datetime\") - pl.col(\"tpep_pickup_datetime\"))\n",
    "        .dt.total_minutes()\n",
    "        .lt(60)\n",
    "    )\n",
    "    & (\n",
    "        (pl.col(\"tpep_dropoff_datetime\") - pl.col(\"tpep_pickup_datetime\"))\n",
    "        .dt.total_minutes()\n",
    "        .gt(0)\n",
    "    )\n",
    ")\n",
    "\n",
    "hot_df2 = within_1_hour2.select(\n",
    "    pl.col(\"PULocationID\").cast(pl.String).alias(\"PULocationID\"),\n",
    "    pl.col(\"DOLocationID\").cast(pl.String).alias(\"DOLocationID\"),\n",
    ").to_pandas()\n",
    "\n",
    "dict_list2 = hot_df2.to_dict(orient=\"records\")\n",
    "\n",
    "X_val = vec.transform(dict_list2)\n",
    "\n",
    "y_pred = lr.predict(X_val)\n",
    "\n",
    "y_val = (\n",
    "    within_1_hour2.select(\n",
    "        (\n",
    "            (\n",
    "                pl.col(\"tpep_dropoff_datetime\") - pl.col(\"tpep_pickup_datetime\")\n",
    "            ).dt.total_minutes()\n",
    "        ).alias(\"trip_time\")\n",
    "    )\n",
    "    .to_pandas()[\"trip_time\"]\n",
    "    .values\n",
    ")\n",
    "\n",
    "mean_squared_error(y_val, y_pred, squared=False)"
   ]
  }
 ],
 "metadata": {
  "kernelspec": {
   "display_name": "de",
   "language": "python",
   "name": "python3"
  },
  "language_info": {
   "codemirror_mode": {
    "name": "ipython",
    "version": 3
   },
   "file_extension": ".py",
   "mimetype": "text/x-python",
   "name": "python",
   "nbconvert_exporter": "python",
   "pygments_lexer": "ipython3",
   "version": "3.10.14"
  }
 },
 "nbformat": 4,
 "nbformat_minor": 2
}
